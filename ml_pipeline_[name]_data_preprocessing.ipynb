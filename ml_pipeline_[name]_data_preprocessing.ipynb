{
  "cells": [
    {
      "cell_type": "markdown",
      "metadata": {
        "id": "view-in-github",
        "colab_type": "text"
      },
      "source": [
        "<a href=\"https://colab.research.google.com/github/kennyg37/data-preprocessing/blob/main/ml_pipeline_%5Bname%5D_data_preprocessing.ipynb\" target=\"_parent\"><img src=\"https://colab.research.google.com/assets/colab-badge.svg\" alt=\"Open In Colab\"/></a>"
      ]
    },
    {
      "cell_type": "markdown",
      "metadata": {
        "id": "37BV7-CMEbMj"
      },
      "source": [
        "# Data Processing Approach for Portfolio Project\n",
        "\n",
        "## Project Title: [Your Project Title]\n",
        "## [Company Logo]\n",
        "\n",
        "## Student Name: [Your Name]\n",
        "\n",
        "---\n",
        "\n",
        "1. **Data Sources and Aggregation:**\n",
        "   - List all sources of data for the project. **You must consider sources outside kaggle, google datasets** (insert links where necessary to online platforms,research papers etc)\n",
        "\n",
        "   **Your answer for data sources goes here **\n",
        "   \n",
        "   - Determine if data aggregation from multiple sources is necessary for comprehensive analysis.\n",
        "\n",
        "   **Your answer for data agggregation goes here **\n",
        "\n"
      ],
      "id": "37BV7-CMEbMj"
    },
    {
      "cell_type": "code",
      "source": [
        "#insert code if necessary"
      ],
      "metadata": {
        "id": "K6W_BkY6FGRL"
      },
      "id": "K6W_BkY6FGRL",
      "execution_count": null,
      "outputs": []
    },
    {
      "cell_type": "markdown",
      "source": [
        "\n",
        "\n",
        "2. **Data Format Transformation:**\n",
        "   - Describe the current format of the data.\n",
        "   - Outline the planned transformation to a unified format suitable for analysis and modeling.\n",
        "\n",
        " **Your answer for data transformation goes here **\n",
        "\n",
        "3. **Data Exploration:**\n",
        "   - Enumerate the features included in the dataset.\n",
        "   \n",
        "   - Summarize findings from exploratory data analysis (EDA) including distributions, correlations, and outliers.\n",
        "   \n",
        "  **Insert code for data exploration below**\n"
      ],
      "metadata": {
        "id": "TzyeghJDEjit"
      },
      "id": "TzyeghJDEjit"
    },
    {
      "cell_type": "code",
      "source": [
        "#Include plots for EDA\n"
      ],
      "metadata": {
        "id": "oYEgIOxSFUHW"
      },
      "id": "oYEgIOxSFUHW",
      "execution_count": null,
      "outputs": []
    },
    {
      "cell_type": "markdown",
      "source": [
        "\n",
        "\n",
        "4. **Hypothesis Testing:**\n",
        "   - State any preexisting hypotheses about the data.\n",
        "   - Explain methodologies to empirically test these hypotheses.\n",
        "\n",
        "   **Your answer for Hypothesis Testing goes here **\n",
        "\n",
        "5. **Handling Sparse/Dense Data and Outliers:**\n",
        "   - Assess the density of the data.\n",
        "   - Propose strategies to handle missing data and outliers while maintaining dataset integrity.\n",
        "\n",
        "   **Insert code for Handling Sparse/Dense Data and Outliers below**"
      ],
      "metadata": {
        "id": "tHKtxjFKFNpB"
      },
      "id": "tHKtxjFKFNpB"
    },
    {
      "cell_type": "code",
      "source": [],
      "metadata": {
        "id": "f_R52s5RE_wj"
      },
      "id": "f_R52s5RE_wj",
      "execution_count": null,
      "outputs": []
    },
    {
      "cell_type": "markdown",
      "source": [
        "6. **Data Splitting:**\n",
        "   - Define a methodology to split the dataset into training, validation, and testing sets.\n",
        "   - Ensure randomness and representativeness in each subset.\n",
        "\n",
        "7. **Bias Mitigation:**\n",
        "   - Implement techniques to identify and mitigate biases in the dataset.\n",
        "   - Ensure fairness and equity in data representation.\n",
        "   \n",
        "    **Your answer for Hypothesis Testing goes here **\n",
        "\n"
      ],
      "metadata": {
        "id": "5SS3lD0sGPGe"
      },
      "id": "5SS3lD0sGPGe"
    },
    {
      "cell_type": "code",
      "source": [],
      "metadata": {
        "id": "iX_5Hl65GEgY"
      },
      "id": "iX_5Hl65GEgY",
      "execution_count": null,
      "outputs": []
    },
    {
      "cell_type": "markdown",
      "source": [
        "8. **Features for Model Training:**\n",
        "   - Identify relevant features for training the model.\n",
        "   - Rank features based on their significance to project objectives.\n",
        "\n",
        " **Your answer for features must be plotted/ show your working code-wise **\n",
        "9. **Types of Data Handling:**\n",
        "   - Classify the types of data (categorical, numerical, etc.) present in the dataset.\n",
        "   - Plan preprocessing steps for each data type.\n",
        "\n",
        "   [**insert text for preprocessing steps**]\n"
      ],
      "metadata": {
        "id": "OzGrkCCXGUxV"
      },
      "id": "OzGrkCCXGUxV"
    },
    {
      "cell_type": "code",
      "source": [
        "#print out relevant features"
      ],
      "metadata": {
        "id": "YNkqADAQGbNZ"
      },
      "id": "YNkqADAQGbNZ",
      "execution_count": null,
      "outputs": []
    },
    {
      "cell_type": "markdown",
      "source": [
        "\n",
        "10. **Data Transformation for Modeling:**\n",
        "    - Specify methods for transforming raw data into a model-friendly format.\n",
        "    - Detail steps for normalization, scaling, or encoding categorical variables.\n",
        "\n",
        "11. **Data Storage:**\n",
        "    - Determine where and how processed data will be stored.\n",
        "    - Choose suitable storage solutions ensuring accessibility and security.\n",
        "\n",
        "---\n",
        "\n",
        "#### Notes:\n",
        "- This template provides a structured framework for documenting your data processing approach for the portfolio project.\n",
        "- Fill out each section with specific details relevant to your project's requirements and objectives.\n",
        "- Use additional cells as needed to provide comprehensive information."
      ],
      "metadata": {
        "id": "lG_mx92GGX6W"
      },
      "id": "lG_mx92GGX6W"
    }
  ],
  "metadata": {
    "kernelspec": {
      "display_name": "Python 3",
      "language": "python",
      "name": "python3"
    },
    "language_info": {
      "codemirror_mode": {
        "name": "ipython",
        "version": 3
      },
      "file_extension": ".py",
      "mimetype": "text/x-python",
      "name": "python",
      "nbconvert_exporter": "python",
      "pygments_lexer": "ipython3",
      "version": "3.9.7"
    },
    "colab": {
      "provenance": [],
      "include_colab_link": true
    }
  },
  "nbformat": 4,
  "nbformat_minor": 5
}